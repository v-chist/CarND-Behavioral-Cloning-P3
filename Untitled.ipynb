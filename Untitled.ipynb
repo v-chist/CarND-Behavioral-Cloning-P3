{
 "cells": [
  {
   "cell_type": "markdown",
   "metadata": {},
   "source": [
    "Importing data"
   ]
  },
  {
   "cell_type": "code",
   "execution_count": 1,
   "metadata": {},
   "outputs": [
    {
     "name": "stdout",
     "output_type": "stream",
     "text": [
      "Loading data...\n",
      "Loaded\n"
     ]
    }
   ],
   "source": [
    "import csv\n",
    "import cv2\n",
    "import numpy as np\n",
    "import matplotlib.pyplot as plt\n",
    "\n",
    "\n",
    "print(\"Loading data...\")\n",
    "lines = []\n",
    "with open('./training data/driving_log.csv') as csvfile:\n",
    "    reader = csv.reader(csvfile)\n",
    "    for line in reader:\n",
    "        lines.append(line)\n",
    "\n",
    "    \n",
    "images = []\n",
    "measurements = []\n",
    "for line in lines:\n",
    "    source_path = line[0]\n",
    "    source_path_left = line[1]\n",
    "    source_path_right = line[2]\n",
    "    \n",
    "    source_folder = './training data/IMG/'\n",
    "    \n",
    "    filename = source_path.split('\\\\')[-1]\n",
    "    current_path = source_folder + filename\n",
    "    filename_left = source_path_left.split('\\\\')[-1]\n",
    "    current_path_left = source_folder + filename_left\n",
    "    filename_right = source_path_right.split('\\\\')[-1]\n",
    "    current_path_right = source_folder + filename_right\n",
    "    \n",
    "    \n",
    "    image = cv2.imread(current_path)\n",
    "    imageRGB = cv2.cvtColor(image, cv2.COLOR_BGR2RGB)\n",
    "    image_left = cv2.imread(current_path_left)\n",
    "    imageRGB_left = cv2.cvtColor(image_left, cv2.COLOR_BGR2RGB)\n",
    "    image_right = cv2.imread(current_path_right)\n",
    "    imageRGB_right = cv2.cvtColor(image_right, cv2.COLOR_BGR2RGB)\n",
    "    \n",
    "    image_flipped = np.fliplr(imageRGB)\n",
    "    image_left_flipped = np.fliplr(imageRGB_left)\n",
    "    image_right_flipped = np.fliplr(imageRGB_right)\n",
    "    \n",
    "    images.append(imageRGB)\n",
    "    images.append(image_flipped)\n",
    "    images.append(imageRGB_left)\n",
    "    images.append(image_left_flipped)\n",
    "    images.append(imageRGB_right)\n",
    "    images.append(image_right_flipped)\n",
    "    \n",
    "    correction = 0.2 # this is a parameter to tune\n",
    "    measurement = float(line[3])\n",
    "    measurement_flipped = -measurement\n",
    "    measurement_left = measurement + correction\n",
    "    measurement_left_flipped = -measurement_left\n",
    "    measurement_right = measurement - correction\n",
    "    measurement_right_flipped = -measurement_right\n",
    "    \n",
    "    measurements.append(measurement)\n",
    "    measurements.append(measurement_flipped)\n",
    "    measurements.append(measurement_left)\n",
    "    measurements.append(measurement_left_flipped)\n",
    "    measurements.append(measurement_right)\n",
    "    measurements.append(measurement_right_flipped)\n",
    "\n",
    "\n",
    "    \n",
    "X_train = np.array(images)\n",
    "y_train = np.array(measurements)\n",
    "\n",
    "print(\"Loaded\")\n",
    "#plt.imshow(X_train[0])\n",
    "#plt.show()\n",
    "\n",
    "\n",
    "\n",
    "\n",
    "    "
   ]
  },
  {
   "cell_type": "code",
   "execution_count": 3,
   "metadata": {},
   "outputs": [
    {
     "name": "stdout",
     "output_type": "stream",
     "text": [
      "Training...\n",
      "Train on 19920 samples, validate on 4980 samples\n",
      "Epoch 1/2\n",
      "19920/19920 [==============================] - 656s - loss: 0.0098 - val_loss: 0.0219\n",
      "Epoch 2/2\n",
      "19920/19920 [==============================] - 629s - loss: 0.0052 - val_loss: 0.0172\n",
      "Model saved\n"
     ]
    }
   ],
   "source": [
    "from keras.models import Sequential\n",
    "from keras.layers import Flatten, Dense, Lambda, Cropping2D\n",
    "from keras.layers.convolutional import Convolution2D\n",
    "from keras.layers.pooling import MaxPooling2D\n",
    "\n",
    "model = Sequential()\n",
    "model.add(Lambda(lambda x: x / 255.0 - 0.5, input_shape=(160,320,3)))\n",
    "model.add(Cropping2D(cropping=((50,20), (0,0)), input_shape=(3,160,320)))\n",
    "model.add(Convolution2D(24,5,5,subsample=(2,2),activation='relu'))\n",
    "model.add(Convolution2D(36,5,5,subsample=(2,2),activation='relu'))\n",
    "model.add(Convolution2D(48,5,5,subsample=(2,2),activation='relu'))\n",
    "model.add(Convolution2D(64,3,3,activation='relu'))\n",
    "model.add(Convolution2D(64,3,3,activation='relu'))\n",
    "model.add(Flatten())\n",
    "model.add(Dense(100))\n",
    "model.add(Dense(50))\n",
    "model.add(Dense(10))\n",
    "model.add(Dense(1))\n",
    "#model.add(MaxPooling2D())\n",
    "#model.add(Convolution2D(6,5,5,activation='relu'))\n",
    "#model.add(MaxPooling2D())\n",
    "#model.add(Flatten())\n",
    "#model.add(Dense(120))\n",
    "#model.add(Dense(84))\n",
    "#model.add(Dense(1))\n",
    "\n",
    "#LENET\n",
    "#model.add(Convolution2D(6,5,5,activation='relu'))\n",
    "#model.add(MaxPooling2D())\n",
    "#model.add(Convolution2D(6,5,5,activation='relu'))\n",
    "#model.add(MaxPooling2D())\n",
    "#model.add(Flatten())\n",
    "#model.add(Dense(120))\n",
    "#model.add(Dense(84))\n",
    "#model.add(Dense(1))\n",
    "#LENET\n",
    "\n",
    "print(\"Training...\")\n",
    "model.compile(loss='mse', optimizer='adam')\n",
    "model.fit(X_train, y_train, validation_split=0.2, shuffle=True, nb_epoch=2)\n",
    "\n",
    "model.save('model.h5')\n",
    "print(\"Model saved\")"
   ]
  },
  {
   "cell_type": "code",
   "execution_count": null,
   "metadata": {
    "collapsed": true
   },
   "outputs": [],
   "source": []
  }
 ],
 "metadata": {
  "kernelspec": {
   "display_name": "Python [conda env:carnd-term1]",
   "language": "python",
   "name": "conda-env-carnd-term1-py"
  },
  "language_info": {
   "codemirror_mode": {
    "name": "ipython",
    "version": 3
   },
   "file_extension": ".py",
   "mimetype": "text/x-python",
   "name": "python",
   "nbconvert_exporter": "python",
   "pygments_lexer": "ipython3",
   "version": "3.5.2"
  },
  "widgets": {
   "state": {},
   "version": "1.1.2"
  }
 },
 "nbformat": 4,
 "nbformat_minor": 2
}
